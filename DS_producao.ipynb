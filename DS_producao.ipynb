{
 "cells": [
  {
   "cell_type": "markdown",
   "id": "4f191ba6",
   "metadata": {},
   "source": [
    "## Contexto do desafio"
   ]
  },
  {
   "cell_type": "markdown",
   "id": "f149b099",
   "metadata": {},
   "source": [
    "O CFO da empresa fez uma reunião com todos os gerentes de loja e pediu para que cada um deles troxesse uma previsão diária das próximas 6 semanas de vendas.\n",
    "\n",
    "Depois dessa reunião, todos os Gerentes entraram em contato com você, quequisitando uma previsão de vendas de sua loja."
   ]
  },
  {
   "cell_type": "markdown",
   "id": "40c4ba11",
   "metadata": {},
   "source": [
    "### Entendendo o problema"
   ]
  },
  {
   "cell_type": "markdown",
   "id": "816589b3",
   "metadata": {},
   "source": [
    "Entender: A Motivação\n",
    "- Qual o contexto?\n",
    "\n",
    "Entender: A Causa Raiz do Problema\n",
    "- Porque fazer uma Previsão de Vendas?\n",
    "\n",
    "Entender: Quem é o Dono do Problema\n",
    "- Quem será o Stakeholder? (Stakeholder é quem vai te guiar no problema)\n",
    "\n",
    "Entender: O Formato da Socução\n",
    "- Qual o formato da solução\n",
    "- Granularidade\n",
    "- Tipo do Problema\n",
    "- Potencias Métodos\n",
    "- Formato da Entrega\n",
    "\n"
   ]
  },
  {
   "cell_type": "code",
   "execution_count": null,
   "id": "ed01c69d",
   "metadata": {},
   "outputs": [],
   "source": [
    "Kaggle = Rossmann Store Sales"
   ]
  },
  {
   "cell_type": "markdown",
   "id": "104f72a0",
   "metadata": {},
   "source": [
    "A Motivação: O CFO requisitou essa solução durante uma reunião de resultados mensais\n",
    "\n",
    "A Causa Raiz do Problema: Investimento em Reforma das Lojas\n",
    "\n",
    "Quem é o Stakeholder: O CFO\n",
    "\n",
    "O Formato da Solução:\n",
    "- Vendas diárias em R$ nas próximas 6 semanas\n",
    "- Problema de Predição\n",
    "- Time Series, Regressão e rede neural\n",
    "- Predições acessadas via celular"
   ]
  },
  {
   "cell_type": "markdown",
   "id": "1799fd77",
   "metadata": {
    "ExecuteTime": {
     "end_time": "2022-09-26T18:58:43.681546Z",
     "start_time": "2022-09-26T18:58:43.668545Z"
    }
   },
   "source": [
    "## CRISP-DS"
   ]
  },
  {
   "cell_type": "markdown",
   "id": "5cebb625",
   "metadata": {},
   "source": [
    "CRoss-Industry Process - Data Science"
   ]
  },
  {
   "cell_type": "markdown",
   "id": "997d3b02",
   "metadata": {},
   "source": [
    "Método Cíclico de Desenvolvimento\n"
   ]
  },
  {
   "cell_type": "markdown",
   "id": "d520ac6c",
   "metadata": {},
   "source": [
    "1 Ciclo CRISP Completo:\n",
    "- 1 versão End-to-End da solução;\n",
    "- 2 Velocidade na Entrega de valor;\n",
    "- 3 Mapeamento de todos os possíveis problemas."
   ]
  },
  {
   "cell_type": "code",
   "execution_count": null,
   "id": "5cd405ae",
   "metadata": {},
   "outputs": [],
   "source": [
    "O Ciclo CRISP-DS\n",
    "\n",
    "Questão de Negócio --> Entendimento do negócio --> Coleta de Dados --> Limpeza dos Dados --> Exploração dos Dados -->\n",
    "--> Modelagem dos Dados --> Algoritmos de Machine Learning --> Avaliação do Algoritmo --> -->| --> Modelo em Produção "
   ]
  },
  {
   "cell_type": "code",
   "execution_count": null,
   "id": "71682961",
   "metadata": {},
   "outputs": [],
   "source": [
    "Crisp - ds para o desafio da Rossmann\n",
    "\n",
    "Questão de Negócio --> Entendimento do Negócio \n",
    "\n",
    "Qual é o valor das                     | Qual a motivação? A previsão de vendas foi requisitada pelo CFO em uma reunião\n",
    "vendas de cada loja                    | mensal sobre os resultados das lojas.\n",
    "nas próximas 6 semanas?                | Qual a causa Raiz do Problema?\n",
    "                                    | Dificuladade em determinar o valor de investimento para reformas de cada loja.\n",
    "                                | Quem é o dono do problema?\n",
    "                                    Diretor Financeiro (CFO) da Rossmann\n",
    "            | Qual o Formato da Solução.\n",
    "            - Granularidade: Previsão de Vendas por Dia cada Loja para os próximos 42 dias, 6 semanas.\n",
    "            - Tipo do Problema: Previsão de Vendas;\n",
    "            - Potenciais Métodos: Séries Temporais\n",
    "            - Formatoto de Entrega:\n",
    "                1 - Valor total das vendas no final das 6 semanas\n",
    "                2 - Como essas vendas acontecem diariamente\n",
    "                \n",
    "Update do Progresso do Projeto Rossmann\n",
    "\n",
    "Questão de Negócio --> Entendimento do Negócio --> Coleta de Dados ==> LIMPEZA DOS DADOS <== Exploração dos dados -->\n",
    "--> Modelagem dos dados --> algoritmos de Machine Learning--> Avaliação do Algoritmo --> Modelo em produção"
   ]
  },
  {
   "cell_type": "markdown",
   "id": "5b583afa",
   "metadata": {},
   "source": [
    "O Quão desafiador é o problema? \n",
    "Quantidade de Dados:\n",
    "- Eu tenho os recursos corretos para trabalhar?\n",
    "- Servidores? Custers? Spark? Hadoop?\n",
    "\n",
    "Tipos de Variáveis:\n",
    "- Quais os tipos de variáveis?\n",
    "- % Numérica, %Categórica, %Temporal.\n",
    "\n",
    "Quantidade de Dados Faltante:\n",
    "-Qual o volume de dados NA?\n",
    "-Qual a razão de faltar dados?\n",
    "- Sistema? Input Manual?\n",
    "\n",
    "Resumo Geral dos Dados:\n",
    "- Estatística Descritiva\n"
   ]
  },
  {
   "cell_type": "markdown",
   "id": "c5ffc723",
   "metadata": {},
   "source": [
    "### Imports"
   ]
  },
  {
   "cell_type": "code",
   "execution_count": 15,
   "id": "4c44751f",
   "metadata": {
    "ExecuteTime": {
     "end_time": "2022-09-26T20:24:30.588790Z",
     "start_time": "2022-09-26T20:24:25.249439Z"
    }
   },
   "outputs": [
    {
     "name": "stdout",
     "output_type": "stream",
     "text": [
      "Collecting inflection\n",
      "  Downloading inflection-0.5.1-py2.py3-none-any.whl (9.5 kB)\n",
      "Installing collected packages: inflection\n",
      "Successfully installed inflection-0.5.1\n"
     ]
    }
   ],
   "source": [
    "! pip install inflection"
   ]
  },
  {
   "cell_type": "code",
   "execution_count": 16,
   "id": "042fbc9a",
   "metadata": {
    "ExecuteTime": {
     "end_time": "2022-09-26T20:24:32.847776Z",
     "start_time": "2022-09-26T20:24:32.825781Z"
    }
   },
   "outputs": [],
   "source": [
    "import pandas as pd \n",
    "import inflection"
   ]
  },
  {
   "cell_type": "markdown",
   "id": "a83aa8b6",
   "metadata": {
    "ExecuteTime": {
     "end_time": "2022-09-26T19:50:44.111577Z",
     "start_time": "2022-09-26T19:50:44.102577Z"
    }
   },
   "source": [
    "### Helper Functions"
   ]
  },
  {
   "cell_type": "markdown",
   "id": "bd3e1940",
   "metadata": {},
   "source": [
    "### Loading data"
   ]
  },
  {
   "cell_type": "code",
   "execution_count": 8,
   "id": "3f38b03e",
   "metadata": {
    "ExecuteTime": {
     "end_time": "2022-09-26T19:58:49.429271Z",
     "start_time": "2022-09-26T19:58:48.120275Z"
    }
   },
   "outputs": [
    {
     "data": {
      "text/html": [
       "<div>\n",
       "<style scoped>\n",
       "    .dataframe tbody tr th:only-of-type {\n",
       "        vertical-align: middle;\n",
       "    }\n",
       "\n",
       "    .dataframe tbody tr th {\n",
       "        vertical-align: top;\n",
       "    }\n",
       "\n",
       "    .dataframe thead th {\n",
       "        text-align: right;\n",
       "    }\n",
       "</style>\n",
       "<table border=\"1\" class=\"dataframe\">\n",
       "  <thead>\n",
       "    <tr style=\"text-align: right;\">\n",
       "      <th></th>\n",
       "      <th>Store</th>\n",
       "      <th>DayOfWeek</th>\n",
       "      <th>Date</th>\n",
       "      <th>Sales</th>\n",
       "      <th>Customers</th>\n",
       "      <th>Open</th>\n",
       "      <th>Promo</th>\n",
       "      <th>StateHoliday</th>\n",
       "      <th>SchoolHoliday</th>\n",
       "    </tr>\n",
       "  </thead>\n",
       "  <tbody>\n",
       "    <tr>\n",
       "      <th>0</th>\n",
       "      <td>1</td>\n",
       "      <td>5</td>\n",
       "      <td>2015-07-31</td>\n",
       "      <td>5263</td>\n",
       "      <td>555</td>\n",
       "      <td>1</td>\n",
       "      <td>1</td>\n",
       "      <td>0</td>\n",
       "      <td>1</td>\n",
       "    </tr>\n",
       "    <tr>\n",
       "      <th>1</th>\n",
       "      <td>2</td>\n",
       "      <td>5</td>\n",
       "      <td>2015-07-31</td>\n",
       "      <td>6064</td>\n",
       "      <td>625</td>\n",
       "      <td>1</td>\n",
       "      <td>1</td>\n",
       "      <td>0</td>\n",
       "      <td>1</td>\n",
       "    </tr>\n",
       "  </tbody>\n",
       "</table>\n",
       "</div>"
      ],
      "text/plain": [
       "   Store  DayOfWeek        Date  Sales  Customers  Open  Promo StateHoliday  \\\n",
       "0      1          5  2015-07-31   5263        555     1      1            0   \n",
       "1      2          5  2015-07-31   6064        625     1      1            0   \n",
       "\n",
       "   SchoolHoliday  \n",
       "0              1  \n",
       "1              1  "
      ]
     },
     "execution_count": 8,
     "metadata": {},
     "output_type": "execute_result"
    }
   ],
   "source": [
    "df_sales_raw = pd.read_csv( 'F:Repos_DS\\\\DS_em_Producao\\\\train.csv', low_memory=False)\n",
    "df_sales_raw.head(2)"
   ]
  },
  {
   "cell_type": "code",
   "execution_count": 9,
   "id": "bc881c2e",
   "metadata": {
    "ExecuteTime": {
     "end_time": "2022-09-26T19:58:50.720413Z",
     "start_time": "2022-09-26T19:58:50.690421Z"
    },
    "scrolled": true
   },
   "outputs": [
    {
     "data": {
      "text/html": [
       "<div>\n",
       "<style scoped>\n",
       "    .dataframe tbody tr th:only-of-type {\n",
       "        vertical-align: middle;\n",
       "    }\n",
       "\n",
       "    .dataframe tbody tr th {\n",
       "        vertical-align: top;\n",
       "    }\n",
       "\n",
       "    .dataframe thead th {\n",
       "        text-align: right;\n",
       "    }\n",
       "</style>\n",
       "<table border=\"1\" class=\"dataframe\">\n",
       "  <thead>\n",
       "    <tr style=\"text-align: right;\">\n",
       "      <th></th>\n",
       "      <th>Store</th>\n",
       "      <th>StoreType</th>\n",
       "      <th>Assortment</th>\n",
       "      <th>CompetitionDistance</th>\n",
       "      <th>CompetitionOpenSinceMonth</th>\n",
       "      <th>CompetitionOpenSinceYear</th>\n",
       "      <th>Promo2</th>\n",
       "      <th>Promo2SinceWeek</th>\n",
       "      <th>Promo2SinceYear</th>\n",
       "      <th>PromoInterval</th>\n",
       "    </tr>\n",
       "  </thead>\n",
       "  <tbody>\n",
       "    <tr>\n",
       "      <th>0</th>\n",
       "      <td>1</td>\n",
       "      <td>c</td>\n",
       "      <td>a</td>\n",
       "      <td>1270.0</td>\n",
       "      <td>9.0</td>\n",
       "      <td>2008.0</td>\n",
       "      <td>0</td>\n",
       "      <td>NaN</td>\n",
       "      <td>NaN</td>\n",
       "      <td>NaN</td>\n",
       "    </tr>\n",
       "    <tr>\n",
       "      <th>1</th>\n",
       "      <td>2</td>\n",
       "      <td>a</td>\n",
       "      <td>a</td>\n",
       "      <td>570.0</td>\n",
       "      <td>11.0</td>\n",
       "      <td>2007.0</td>\n",
       "      <td>1</td>\n",
       "      <td>13.0</td>\n",
       "      <td>2010.0</td>\n",
       "      <td>Jan,Apr,Jul,Oct</td>\n",
       "    </tr>\n",
       "  </tbody>\n",
       "</table>\n",
       "</div>"
      ],
      "text/plain": [
       "   Store StoreType Assortment  CompetitionDistance  CompetitionOpenSinceMonth  \\\n",
       "0      1         c          a               1270.0                        9.0   \n",
       "1      2         a          a                570.0                       11.0   \n",
       "\n",
       "   CompetitionOpenSinceYear  Promo2  Promo2SinceWeek  Promo2SinceYear  \\\n",
       "0                    2008.0       0              NaN              NaN   \n",
       "1                    2007.0       1             13.0           2010.0   \n",
       "\n",
       "     PromoInterval  \n",
       "0              NaN  \n",
       "1  Jan,Apr,Jul,Oct  "
      ]
     },
     "execution_count": 9,
     "metadata": {},
     "output_type": "execute_result"
    }
   ],
   "source": [
    "df_store_raw = pd.read_csv( 'F:Repos_DS\\\\DS_em_Producao\\\\store.csv', low_memory=False)\n",
    "df_store_raw.head(2)"
   ]
  },
  {
   "cell_type": "code",
   "execution_count": 10,
   "id": "eb8f830a",
   "metadata": {
    "ExecuteTime": {
     "end_time": "2022-09-26T20:00:07.893917Z",
     "start_time": "2022-09-26T20:00:07.089923Z"
    }
   },
   "outputs": [
    {
     "data": {
      "text/html": [
       "<div>\n",
       "<style scoped>\n",
       "    .dataframe tbody tr th:only-of-type {\n",
       "        vertical-align: middle;\n",
       "    }\n",
       "\n",
       "    .dataframe tbody tr th {\n",
       "        vertical-align: top;\n",
       "    }\n",
       "\n",
       "    .dataframe thead th {\n",
       "        text-align: right;\n",
       "    }\n",
       "</style>\n",
       "<table border=\"1\" class=\"dataframe\">\n",
       "  <thead>\n",
       "    <tr style=\"text-align: right;\">\n",
       "      <th></th>\n",
       "      <th>Store</th>\n",
       "      <th>DayOfWeek</th>\n",
       "      <th>Date</th>\n",
       "      <th>Sales</th>\n",
       "      <th>Customers</th>\n",
       "      <th>Open</th>\n",
       "      <th>Promo</th>\n",
       "      <th>StateHoliday</th>\n",
       "      <th>SchoolHoliday</th>\n",
       "      <th>StoreType</th>\n",
       "      <th>Assortment</th>\n",
       "      <th>CompetitionDistance</th>\n",
       "      <th>CompetitionOpenSinceMonth</th>\n",
       "      <th>CompetitionOpenSinceYear</th>\n",
       "      <th>Promo2</th>\n",
       "      <th>Promo2SinceWeek</th>\n",
       "      <th>Promo2SinceYear</th>\n",
       "      <th>PromoInterval</th>\n",
       "    </tr>\n",
       "  </thead>\n",
       "  <tbody>\n",
       "    <tr>\n",
       "      <th>0</th>\n",
       "      <td>1</td>\n",
       "      <td>5</td>\n",
       "      <td>2015-07-31</td>\n",
       "      <td>5263</td>\n",
       "      <td>555</td>\n",
       "      <td>1</td>\n",
       "      <td>1</td>\n",
       "      <td>0</td>\n",
       "      <td>1</td>\n",
       "      <td>c</td>\n",
       "      <td>a</td>\n",
       "      <td>1270.0</td>\n",
       "      <td>9.0</td>\n",
       "      <td>2008.0</td>\n",
       "      <td>0</td>\n",
       "      <td>NaN</td>\n",
       "      <td>NaN</td>\n",
       "      <td>NaN</td>\n",
       "    </tr>\n",
       "    <tr>\n",
       "      <th>1</th>\n",
       "      <td>2</td>\n",
       "      <td>5</td>\n",
       "      <td>2015-07-31</td>\n",
       "      <td>6064</td>\n",
       "      <td>625</td>\n",
       "      <td>1</td>\n",
       "      <td>1</td>\n",
       "      <td>0</td>\n",
       "      <td>1</td>\n",
       "      <td>a</td>\n",
       "      <td>a</td>\n",
       "      <td>570.0</td>\n",
       "      <td>11.0</td>\n",
       "      <td>2007.0</td>\n",
       "      <td>1</td>\n",
       "      <td>13.0</td>\n",
       "      <td>2010.0</td>\n",
       "      <td>Jan,Apr,Jul,Oct</td>\n",
       "    </tr>\n",
       "  </tbody>\n",
       "</table>\n",
       "</div>"
      ],
      "text/plain": [
       "   Store  DayOfWeek        Date  Sales  Customers  Open  Promo StateHoliday  \\\n",
       "0      1          5  2015-07-31   5263        555     1      1            0   \n",
       "1      2          5  2015-07-31   6064        625     1      1            0   \n",
       "\n",
       "   SchoolHoliday StoreType Assortment  CompetitionDistance  \\\n",
       "0              1         c          a               1270.0   \n",
       "1              1         a          a                570.0   \n",
       "\n",
       "   CompetitionOpenSinceMonth  CompetitionOpenSinceYear  Promo2  \\\n",
       "0                        9.0                    2008.0       0   \n",
       "1                       11.0                    2007.0       1   \n",
       "\n",
       "   Promo2SinceWeek  Promo2SinceYear    PromoInterval  \n",
       "0              NaN              NaN              NaN  \n",
       "1             13.0           2010.0  Jan,Apr,Jul,Oct  "
      ]
     },
     "execution_count": 10,
     "metadata": {},
     "output_type": "execute_result"
    }
   ],
   "source": [
    "# merge\n",
    "\n",
    "df_raw = pd.merge( df_sales_raw, df_store_raw, how='left', on='Store')\n",
    "df_raw.head(2)"
   ]
  },
  {
   "cell_type": "code",
   "execution_count": 11,
   "id": "d616f79f",
   "metadata": {
    "ExecuteTime": {
     "end_time": "2022-09-26T20:01:54.540510Z",
     "start_time": "2022-09-26T20:01:54.242520Z"
    }
   },
   "outputs": [
    {
     "data": {
      "text/html": [
       "<div>\n",
       "<style scoped>\n",
       "    .dataframe tbody tr th:only-of-type {\n",
       "        vertical-align: middle;\n",
       "    }\n",
       "\n",
       "    .dataframe tbody tr th {\n",
       "        vertical-align: top;\n",
       "    }\n",
       "\n",
       "    .dataframe thead th {\n",
       "        text-align: right;\n",
       "    }\n",
       "</style>\n",
       "<table border=\"1\" class=\"dataframe\">\n",
       "  <thead>\n",
       "    <tr style=\"text-align: right;\">\n",
       "      <th></th>\n",
       "      <th>Store</th>\n",
       "      <th>DayOfWeek</th>\n",
       "      <th>Date</th>\n",
       "      <th>Sales</th>\n",
       "      <th>Customers</th>\n",
       "      <th>Open</th>\n",
       "      <th>Promo</th>\n",
       "      <th>StateHoliday</th>\n",
       "      <th>SchoolHoliday</th>\n",
       "      <th>StoreType</th>\n",
       "      <th>Assortment</th>\n",
       "      <th>CompetitionDistance</th>\n",
       "      <th>CompetitionOpenSinceMonth</th>\n",
       "      <th>CompetitionOpenSinceYear</th>\n",
       "      <th>Promo2</th>\n",
       "      <th>Promo2SinceWeek</th>\n",
       "      <th>Promo2SinceYear</th>\n",
       "      <th>PromoInterval</th>\n",
       "    </tr>\n",
       "  </thead>\n",
       "  <tbody>\n",
       "    <tr>\n",
       "      <th>903451</th>\n",
       "      <td>1087</td>\n",
       "      <td>6</td>\n",
       "      <td>2013-04-13</td>\n",
       "      <td>5609</td>\n",
       "      <td>611</td>\n",
       "      <td>1</td>\n",
       "      <td>0</td>\n",
       "      <td>0</td>\n",
       "      <td>0</td>\n",
       "      <td>d</td>\n",
       "      <td>c</td>\n",
       "      <td>2210.0</td>\n",
       "      <td>11.0</td>\n",
       "      <td>2011.0</td>\n",
       "      <td>0</td>\n",
       "      <td>NaN</td>\n",
       "      <td>NaN</td>\n",
       "      <td>NaN</td>\n",
       "    </tr>\n",
       "  </tbody>\n",
       "</table>\n",
       "</div>"
      ],
      "text/plain": [
       "        Store  DayOfWeek        Date  Sales  Customers  Open  Promo  \\\n",
       "903451   1087          6  2013-04-13   5609        611     1      0   \n",
       "\n",
       "       StateHoliday  SchoolHoliday StoreType Assortment  CompetitionDistance  \\\n",
       "903451            0              0         d          c               2210.0   \n",
       "\n",
       "        CompetitionOpenSinceMonth  CompetitionOpenSinceYear  Promo2  \\\n",
       "903451                       11.0                    2011.0       0   \n",
       "\n",
       "        Promo2SinceWeek  Promo2SinceYear PromoInterval  \n",
       "903451              NaN              NaN           NaN  "
      ]
     },
     "execution_count": 11,
     "metadata": {},
     "output_type": "execute_result"
    }
   ],
   "source": [
    "# ou\n",
    "df_raw.sample() # escolhe uma linha aleatória para mostrar"
   ]
  },
  {
   "cell_type": "markdown",
   "id": "101b070b",
   "metadata": {},
   "source": [
    "## Descrição de dados com Phyton"
   ]
  },
  {
   "cell_type": "code",
   "execution_count": 13,
   "id": "3f3e9a87",
   "metadata": {
    "ExecuteTime": {
     "end_time": "2022-09-26T20:21:57.831395Z",
     "start_time": "2022-09-26T20:21:57.739405Z"
    }
   },
   "outputs": [],
   "source": [
    "df1 = df_raw.copy()"
   ]
  },
  {
   "cell_type": "code",
   "execution_count": 12,
   "id": "b8ce6f41",
   "metadata": {
    "ExecuteTime": {
     "end_time": "2022-09-26T20:20:49.291770Z",
     "start_time": "2022-09-26T20:20:49.243774Z"
    },
    "scrolled": true
   },
   "outputs": [
    {
     "data": {
      "text/plain": [
       "Index(['Store', 'DayOfWeek', 'Date', 'Sales', 'Customers', 'Open', 'Promo',\n",
       "       'StateHoliday', 'SchoolHoliday', 'StoreType', 'Assortment',\n",
       "       'CompetitionDistance', 'CompetitionOpenSinceMonth',\n",
       "       'CompetitionOpenSinceYear', 'Promo2', 'Promo2SinceWeek',\n",
       "       'Promo2SinceYear', 'PromoInterval'],\n",
       "      dtype='object')"
      ]
     },
     "execution_count": 12,
     "metadata": {},
     "output_type": "execute_result"
    }
   ],
   "source": [
    "df_raw.columns"
   ]
  },
  {
   "cell_type": "code",
   "execution_count": null,
   "id": "c3602213",
   "metadata": {},
   "outputs": [],
   "source": [
    "### Rename Columns"
   ]
  },
  {
   "cell_type": "code",
   "execution_count": 17,
   "id": "04d56cf3",
   "metadata": {
    "ExecuteTime": {
     "end_time": "2022-09-26T20:30:04.176254Z",
     "start_time": "2022-09-26T20:30:04.153259Z"
    }
   },
   "outputs": [],
   "source": [
    "cols_old=['Store', 'DayOfWeek', 'Date', 'Sales', 'Customers', 'Open', 'Promo',\n",
    "       'StateHoliday', 'SchoolHoliday', 'StoreType', 'Assortment',\n",
    "       'CompetitionDistance', 'CompetitionOpenSinceMonth',\n",
    "       'CompetitionOpenSinceYear', 'Promo2', 'Promo2SinceWeek',\n",
    "       'Promo2SinceYear', 'PromoInterval']\n",
    "snakecase = lambda x: inflection.underscore (x)\n",
    "cols_new = list( map( snakecase, cols_old))\n",
    "\n",
    "# rename\n",
    "df1.columns = cols_new\n"
   ]
  },
  {
   "cell_type": "code",
   "execution_count": 18,
   "id": "2e7c0d0d",
   "metadata": {
    "ExecuteTime": {
     "end_time": "2022-09-26T20:30:19.541448Z",
     "start_time": "2022-09-26T20:30:19.526454Z"
    }
   },
   "outputs": [
    {
     "data": {
      "text/plain": [
       "Index(['store', 'day_of_week', 'date', 'sales', 'customers', 'open', 'promo',\n",
       "       'state_holiday', 'school_holiday', 'store_type', 'assortment',\n",
       "       'competition_distance', 'competition_open_since_month',\n",
       "       'competition_open_since_year', 'promo2', 'promo2_since_week',\n",
       "       'promo2_since_year', 'promo_interval'],\n",
       "      dtype='object')"
      ]
     },
     "execution_count": 18,
     "metadata": {},
     "output_type": "execute_result"
    }
   ],
   "source": [
    "df1.columns"
   ]
  },
  {
   "cell_type": "markdown",
   "id": "f795659a",
   "metadata": {},
   "source": [
    "## Data Dimensions"
   ]
  },
  {
   "cell_type": "code",
   "execution_count": 19,
   "id": "89069e1d",
   "metadata": {
    "ExecuteTime": {
     "end_time": "2022-09-26T20:37:05.512522Z",
     "start_time": "2022-09-26T20:37:05.492524Z"
    }
   },
   "outputs": [
    {
     "name": "stdout",
     "output_type": "stream",
     "text": [
      "Number of Rows: 1017209\n",
      "Number of Cols: 18\n"
     ]
    }
   ],
   "source": [
    "print( 'Number of Rows: {}'. format( df1.shape[0]))\n",
    "print( 'Number of Cols: {}'. format( df1.shape[1]))"
   ]
  },
  {
   "cell_type": "markdown",
   "id": "e4c9438b",
   "metadata": {},
   "source": [
    "## Data Types"
   ]
  },
  {
   "cell_type": "code",
   "execution_count": 20,
   "id": "4c60c7f3",
   "metadata": {
    "ExecuteTime": {
     "end_time": "2022-09-26T20:38:14.318583Z",
     "start_time": "2022-09-26T20:38:14.293582Z"
    }
   },
   "outputs": [
    {
     "data": {
      "text/plain": [
       "store                             int64\n",
       "day_of_week                       int64\n",
       "date                             object\n",
       "sales                             int64\n",
       "customers                         int64\n",
       "open                              int64\n",
       "promo                             int64\n",
       "state_holiday                    object\n",
       "school_holiday                    int64\n",
       "store_type                       object\n",
       "assortment                       object\n",
       "competition_distance            float64\n",
       "competition_open_since_month    float64\n",
       "competition_open_since_year     float64\n",
       "promo2                            int64\n",
       "promo2_since_week               float64\n",
       "promo2_since_year               float64\n",
       "promo_interval                   object\n",
       "dtype: object"
      ]
     },
     "execution_count": 20,
     "metadata": {},
     "output_type": "execute_result"
    }
   ],
   "source": [
    "df1.dtypes\n"
   ]
  },
  {
   "cell_type": "code",
   "execution_count": 21,
   "id": "a18c4355",
   "metadata": {
    "ExecuteTime": {
     "end_time": "2022-09-26T20:39:54.445428Z",
     "start_time": "2022-09-26T20:39:54.218434Z"
    }
   },
   "outputs": [
    {
     "data": {
      "text/plain": [
       "store                                    int64\n",
       "day_of_week                              int64\n",
       "date                            datetime64[ns]\n",
       "sales                                    int64\n",
       "customers                                int64\n",
       "open                                     int64\n",
       "promo                                    int64\n",
       "state_holiday                           object\n",
       "school_holiday                           int64\n",
       "store_type                              object\n",
       "assortment                              object\n",
       "competition_distance                   float64\n",
       "competition_open_since_month           float64\n",
       "competition_open_since_year            float64\n",
       "promo2                                   int64\n",
       "promo2_since_week                      float64\n",
       "promo2_since_year                      float64\n",
       "promo_interval                          object\n",
       "dtype: object"
      ]
     },
     "execution_count": 21,
     "metadata": {},
     "output_type": "execute_result"
    }
   ],
   "source": [
    "df1['date'] = pd.to_datetime( df1['date'])\n",
    "df1.dtypes"
   ]
  },
  {
   "cell_type": "markdown",
   "id": "4a59db3e",
   "metadata": {},
   "source": [
    "## Check NA"
   ]
  },
  {
   "cell_type": "code",
   "execution_count": 22,
   "id": "e50964c8",
   "metadata": {
    "ExecuteTime": {
     "end_time": "2022-09-26T20:41:08.313968Z",
     "start_time": "2022-09-26T20:41:07.531953Z"
    }
   },
   "outputs": [
    {
     "data": {
      "text/plain": [
       "store                                0\n",
       "day_of_week                          0\n",
       "date                                 0\n",
       "sales                                0\n",
       "customers                            0\n",
       "open                                 0\n",
       "promo                                0\n",
       "state_holiday                        0\n",
       "school_holiday                       0\n",
       "store_type                           0\n",
       "assortment                           0\n",
       "competition_distance              2642\n",
       "competition_open_since_month    323348\n",
       "competition_open_since_year     323348\n",
       "promo2                               0\n",
       "promo2_since_week               508031\n",
       "promo2_since_year               508031\n",
       "promo_interval                  508031\n",
       "dtype: int64"
      ]
     },
     "execution_count": 22,
     "metadata": {},
     "output_type": "execute_result"
    }
   ],
   "source": [
    "df1.isna().sum()"
   ]
  },
  {
   "cell_type": "code",
   "execution_count": null,
   "id": "4e0fd310",
   "metadata": {},
   "outputs": [],
   "source": []
  },
  {
   "cell_type": "code",
   "execution_count": null,
   "id": "ab27eaa4",
   "metadata": {},
   "outputs": [],
   "source": []
  }
 ],
 "metadata": {
  "kernelspec": {
   "display_name": "Python 3 (ipykernel)",
   "language": "python",
   "name": "python3"
  },
  "language_info": {
   "codemirror_mode": {
    "name": "ipython",
    "version": 3
   },
   "file_extension": ".py",
   "mimetype": "text/x-python",
   "name": "python",
   "nbconvert_exporter": "python",
   "pygments_lexer": "ipython3",
   "version": "3.8.13"
  },
  "nbTranslate": {
   "displayLangs": [
    "*"
   ],
   "hotkey": "alt-t",
   "langInMainMenu": true,
   "sourceLang": "en",
   "targetLang": "fr",
   "useGoogleTranslate": true
  },
  "toc": {
   "base_numbering": 1,
   "nav_menu": {},
   "number_sections": true,
   "sideBar": true,
   "skip_h1_title": false,
   "title_cell": "Table of Contents",
   "title_sidebar": "Contents",
   "toc_cell": false,
   "toc_position": {},
   "toc_section_display": true,
   "toc_window_display": false
  },
  "varInspector": {
   "cols": {
    "lenName": 16,
    "lenType": 16,
    "lenVar": 40
   },
   "kernels_config": {
    "python": {
     "delete_cmd_postfix": "",
     "delete_cmd_prefix": "del ",
     "library": "var_list.py",
     "varRefreshCmd": "print(var_dic_list())"
    },
    "r": {
     "delete_cmd_postfix": ") ",
     "delete_cmd_prefix": "rm(",
     "library": "var_list.r",
     "varRefreshCmd": "cat(var_dic_list()) "
    }
   },
   "types_to_exclude": [
    "module",
    "function",
    "builtin_function_or_method",
    "instance",
    "_Feature"
   ],
   "window_display": false
  }
 },
 "nbformat": 4,
 "nbformat_minor": 5
}
